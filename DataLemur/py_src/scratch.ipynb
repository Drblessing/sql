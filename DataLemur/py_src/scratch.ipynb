{
 "cells": [
  {
   "cell_type": "code",
   "execution_count": 19,
   "metadata": {},
   "outputs": [
    {
     "name": "stdout",
     "output_type": "stream",
     "text": [
      "(1, 2, 3)\n",
      "(2, 3, 4)\n",
      "(3, 4, 5)\n",
      "(4, 5, 6)\n",
      "(1, 2, 3)\n",
      "(2, 3, 4)\n",
      "(3, 4, 5)\n"
     ]
    }
   ],
   "source": [
    "from typing import Iterator, List\n",
    "from itertools import islice\n",
    "\n",
    "\n",
    "from itertools import tee, islice\n",
    "\n",
    "\n",
    "def sliding_window(iterable, size):\n",
    "    iters = tee(iterable, size)\n",
    "    for i, it in enumerate(iters):\n",
    "        next(islice(it, i, i), None)\n",
    "    return zip(*iters)\n",
    "from itertools import islice\n",
    "\n",
    "def sliding_window(iterable, size):\n",
    "    it = iter(iterable)\n",
    "    result = tuple(islice(it, size))\n",
    "    if len(result) == size:\n",
    "        yield result  \n",
    "    for elem in it:\n",
    "        result = result[1:] + (elem,)\n",
    "        yield result\n",
    "\n",
    "# Example usage\n",
    "for window in sliding_window([1, 2, 3, 4, 5, 6], 3):\n",
    "    print(window)\n",
    "\n",
    "# Example usage\n",
    "for window in sliding_window([1, 2, 3, 4, 5], 3):\n",
    "    print(window)\n",
    "\n",
    "\n",
    "x = sliding_window([1, 2, 3, 4, 5, 6, 7, 8, 9], 3)"
   ]
  },
  {
   "cell_type": "code",
   "execution_count": 11,
   "metadata": {},
   "outputs": [
    {
     "data": {
      "text/plain": [
       "[(1, 2), (2, 3), (3, 4), (4, 5), (5, 6)]"
      ]
     },
     "execution_count": 11,
     "metadata": {},
     "output_type": "execute_result"
    }
   ],
   "source": [
    "from itertools import islice, tee\n",
    "\n",
    "sample_list = [1, 2, 3, 4, 5, 6]\n",
    "\n",
    "iters = tee(sample_list, 2)\n",
    "for i, it in enumerate(iters):\n",
    "    next(islice(it, i, i), None)\n",
    "list(zip(*iters))"
   ]
  },
  {
   "cell_type": "code",
   "execution_count": 15,
   "metadata": {},
   "outputs": [
    {
     "name": "stdout",
     "output_type": "stream",
     "text": [
      "(1, 2, 3)\n",
      "(2, 3, 4)\n",
      "(3, 4, 5)\n",
      "(4, 5, 6)\n"
     ]
    }
   ],
   "source": [
    "from itertools import tee\n",
    "\n",
    "def sliding_window(iterable, size):\n",
    "    iters = tee(iterable, size)\n",
    "    for i, it in enumerate(iters):\n",
    "        for _ in range(i):\n",
    "            next(it)\n",
    "    return zip(*iters)\n",
    "\n",
    "# Example usage\n",
    "for window in sliding_window([1, 2, 3, 4, 5, 6], 3):\n",
    "    print(window)\n"
   ]
  },
  {
   "cell_type": "code",
   "execution_count": 17,
   "metadata": {},
   "outputs": [
    {
     "name": "stdout",
     "output_type": "stream",
     "text": [
      "(1, 2, 3)\n",
      "(1, 2, 3)\n",
      "(2, 3, 4)\n",
      "(3, 4, 5)\n",
      "(4, 5, 6)\n"
     ]
    }
   ],
   "source": [
    "from itertools import islice\n",
    "\n",
    "def sliding_window(iterable, size):\n",
    "    it = iter(iterable)\n",
    "    result = tuple(islice(it, size))\n",
    "    print(result)\n",
    "    if len(result) == size:\n",
    "        yield result  \n",
    "    for elem in it:\n",
    "        result = result[1:] + (elem,)\n",
    "        yield result\n",
    "\n",
    "# Example usage\n",
    "for window in sliding_window([1, 2, 3, 4, 5, 6], 3):\n",
    "    print(window)"
   ]
  },
  {
   "cell_type": "code",
   "execution_count": 18,
   "metadata": {},
   "outputs": [
    {
     "name": "stdout",
     "output_type": "stream",
     "text": [
      "1\n",
      "1\n",
      "4\n",
      "8\n",
      "9\n",
      "27\n"
     ]
    }
   ],
   "source": [
    "def squares_and_cubes(limit):\n",
    "    for number in range(1, limit + 1):\n",
    "        yield number ** 2  # Yielding square of the number\n",
    "        yield number ** 3  # Yielding cube of the same number\n",
    "\n",
    "# Example usage\n",
    "for value in squares_and_cubes(3):\n",
    "    print(value)\n"
   ]
  }
 ],
 "metadata": {
  "kernelspec": {
   "display_name": ".venv",
   "language": "python",
   "name": "python3"
  },
  "language_info": {
   "codemirror_mode": {
    "name": "ipython",
    "version": 3
   },
   "file_extension": ".py",
   "mimetype": "text/x-python",
   "name": "python",
   "nbconvert_exporter": "python",
   "pygments_lexer": "ipython3",
   "version": "3.12.1"
  }
 },
 "nbformat": 4,
 "nbformat_minor": 2
}
