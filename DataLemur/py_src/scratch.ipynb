{
 "cells": [
  {
   "cell_type": "code",
   "execution_count": 8,
   "metadata": {},
   "outputs": [
    {
     "name": "stdout",
     "output_type": "stream",
     "text": [
      "5 3\n"
     ]
    },
    {
     "ename": "ValueError",
     "evalue": "window_size must be smaller than seq length.",
     "output_type": "error",
     "traceback": [
      "\u001b[0;31m---------------------------------------------------------------------------\u001b[0m",
      "\u001b[0;31mValueError\u001b[0m                                Traceback (most recent call last)",
      "Cell \u001b[0;32mIn[8], line 32\u001b[0m\n\u001b[1;32m     28\u001b[0m     \u001b[38;5;28;01mfor\u001b[39;00m i \u001b[38;5;129;01min\u001b[39;00m \u001b[38;5;28mrange\u001b[39m(\u001b[38;5;241m0\u001b[39m, \u001b[38;5;28mlen\u001b[39m(seq) \u001b[38;5;241m-\u001b[39m window_size \u001b[38;5;241m+\u001b[39m \u001b[38;5;241m1\u001b[39m, step):\n\u001b[1;32m     29\u001b[0m         \u001b[38;5;28;01myield\u001b[39;00m seq[i : i \u001b[38;5;241m+\u001b[39m window_size]\n\u001b[0;32m---> 32\u001b[0m \u001b[38;5;28;43mlist\u001b[39;49m\u001b[43m(\u001b[49m\u001b[43msliding_window\u001b[49m\u001b[43m(\u001b[49m\u001b[43m[\u001b[49m\u001b[38;5;241;43m1\u001b[39;49m\u001b[43m,\u001b[49m\u001b[43m \u001b[49m\u001b[38;5;241;43m2\u001b[39;49m\u001b[43m,\u001b[49m\u001b[43m \u001b[49m\u001b[38;5;241;43m3\u001b[39;49m\u001b[43m]\u001b[49m\u001b[43m,\u001b[49m\u001b[43m \u001b[49m\u001b[38;5;241;43m5\u001b[39;49m\u001b[43m,\u001b[49m\u001b[43m \u001b[49m\u001b[38;5;241;43m1\u001b[39;49m\u001b[43m)\u001b[49m\u001b[43m)\u001b[49m\n",
      "Cell \u001b[0;32mIn[8], line 23\u001b[0m, in \u001b[0;36msliding_window\u001b[0;34m(seq, window_size, step)\u001b[0m\n\u001b[1;32m     21\u001b[0m     \u001b[38;5;28;01mraise\u001b[39;00m \u001b[38;5;167;01mTypeError\u001b[39;00m(\u001b[38;5;124m\"\u001b[39m\u001b[38;5;124mstep must be int.\u001b[39m\u001b[38;5;124m\"\u001b[39m)\n\u001b[1;32m     22\u001b[0m \u001b[38;5;28;01mif\u001b[39;00m window_size \u001b[38;5;241m>\u001b[39m \u001b[38;5;28mlen\u001b[39m(seq):\n\u001b[0;32m---> 23\u001b[0m     \u001b[38;5;28;01mraise\u001b[39;00m \u001b[38;5;167;01mValueError\u001b[39;00m(\u001b[38;5;124m\"\u001b[39m\u001b[38;5;124mwindow_size must be smaller than seq length.\u001b[39m\u001b[38;5;124m\"\u001b[39m)\n\u001b[1;32m     24\u001b[0m \u001b[38;5;28;01mif\u001b[39;00m step \u001b[38;5;241m>\u001b[39m window_size:\n\u001b[1;32m     25\u001b[0m     \u001b[38;5;28;01mraise\u001b[39;00m \u001b[38;5;167;01mValueError\u001b[39;00m(\u001b[38;5;124m\"\u001b[39m\u001b[38;5;124mstep must be smaller than or equal to window_size.\u001b[39m\u001b[38;5;124m\"\u001b[39m)\n",
      "\u001b[0;31mValueError\u001b[0m: window_size must be smaller than seq length."
     ]
    }
   ],
   "source": [
    "from collections.abc import Iterable, Generator, Sequence\n",
    "\n",
    "\n",
    "def sliding_window[\n",
    "    T\n",
    "](seq: Sequence[T], window_size: int, step: int = 1) -> Generator[\n",
    "    Sequence[T], None, None\n",
    "]:\n",
    "    \"\"\"Returns a generator that will iterate through\n",
    "    the defined chunks of input sequence. Input sequence\n",
    "    must be iterable.\n",
    "    \"\"\"\n",
    "\n",
    "    print(window_size,len(seq))\n",
    "\n",
    "    if not isinstance(seq, Iterable):\n",
    "        raise TypeError(\"seq must be iterable.\")\n",
    "    if not isinstance(window_size, int):\n",
    "        raise TypeError(\"window_size must be int.\")\n",
    "    if not isinstance(step, int):\n",
    "        raise TypeError(\"step must be int.\")\n",
    "    if window_size > len(seq):\n",
    "        raise ValueError(\"window_size must be smaller than seq length.\")\n",
    "    if step > window_size:\n",
    "        raise ValueError(\"step must be smaller than or equal to window_size.\")\n",
    "    if step < 1:\n",
    "        raise ValueError(\"step must be a positive integer.\")\n",
    "    for i in range(0, len(seq) - window_size + 1, step):\n",
    "        yield seq[i : i + window_size]\n",
    "\n",
    "\n",
    "list(sliding_window([1, 2, 3], 5, 1))"
   ]
  },
  {
   "cell_type": "code",
   "execution_count": 56,
   "metadata": {},
   "outputs": [
    {
     "name": "stdout",
     "output_type": "stream",
     "text": [
      "[[1, 2, 3], [2, 3, 4], [3, 4, 5], [4, 5, 6], [5, 6, 7], [6, 7, 8], [7, 8, 9], [8, 9, 10]]\n",
      "[1, 2, 3]\n",
      "[2, 3, 4]\n",
      "[3, 4, 5]\n",
      "[4, 5, 6]\n",
      "[5, 6, 7]\n",
      "[6, 7, 8]\n",
      "[7, 8, 9]\n",
      "[8, 9, 10]\n"
     ]
    }
   ],
   "source": [
    "print(list(sliding_window([1, 2, 3, 4, 5, 6, 7, 8, 9, 10], 3, 1)))\n",
    "one_to_ten = list(range(1, 11))\n",
    "for i in range(0, 8, 1):\n",
    "    print(one_to_ten[i : i + 3])"
   ]
  }
 ],
 "metadata": {
  "kernelspec": {
   "display_name": ".venv",
   "language": "python",
   "name": "python3"
  },
  "language_info": {
   "codemirror_mode": {
    "name": "ipython",
    "version": 3
   },
   "file_extension": ".py",
   "mimetype": "text/x-python",
   "name": "python",
   "nbconvert_exporter": "python",
   "pygments_lexer": "ipython3",
   "version": "3.12.1"
  }
 },
 "nbformat": 4,
 "nbformat_minor": 2
}
