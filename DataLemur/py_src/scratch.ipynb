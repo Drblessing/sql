{
 "cells": [
  {
   "cell_type": "code",
   "execution_count": 11,
   "metadata": {},
   "outputs": [
    {
     "name": "stdout",
     "output_type": "stream",
     "text": [
      "100\n",
      "10\n"
     ]
    },
    {
     "data": {
      "text/plain": [
       "(0, 234800)"
      ]
     },
     "execution_count": 11,
     "metadata": {},
     "output_type": "execute_result"
    }
   ],
   "source": [
    "def trailing_zeroes(n: int) -> int:\n",
    "    \"\"\"Calculates the factorial of n, then counts the trailing zeroes.\"\"\"\n",
    "\n",
    "    if not isinstance(n, int):\n",
    "        raise TypeError(\"n must be an integer.\")\n",
    "    elif n < 0:\n",
    "        raise ValueError(\"n must be positive.\")\n",
    "\n",
    "    # Calculate the factorial of n\n",
    "    factorial = 1\n",
    "    for i in range(1, n + 1):\n",
    "        factorial *= i\n",
    "\n",
    "    # Count the trailing zeroes\n",
    "    trailing_zeroes = 0\n",
    "    while factorial % 10 == 0:\n",
    "        trailing_zeroes += 1\n",
    "        factorial //= 10\n",
    "\n",
    "    # Return the number of trailing zeroes\n",
    "    return trailing_zeroes\n",
    "\n",
    "\n",
    "factorial = 100\n",
    "trailing_zeros = 0\n",
    "while factorial % 10 == 0:\n",
    "    print(factorial)\n",
    "    trailing_zeros += 1\n",
    "    factorial //= 10\n",
    "\n",
    "2348000 % 10, 2348000 // 10"
   ]
  },
  {
   "cell_type": "code",
   "execution_count": 43,
   "metadata": {},
   "outputs": [
    {
     "data": {
      "text/plain": [
       "(0.12900612500015995, 0.02920441700189258)"
      ]
     },
     "execution_count": 43,
     "metadata": {},
     "output_type": "execute_result"
    }
   ],
   "source": [
    "import heapq\n",
    "import random\n",
    "import time\n",
    "\n",
    "\n",
    "# First function using sorting\n",
    "def max_product_sort(input_list):\n",
    "    input_list.sort()\n",
    "    return max(\n",
    "        input_list[0] * input_list[1] * input_list[-1],\n",
    "        input_list[-1] * input_list[-2] * input_list[-3],\n",
    "    )\n",
    "\n",
    "\n",
    "# Second function using heapq\n",
    "def max_product_heapq(input_list):\n",
    "    largest = heapq.nlargest(3, input_list)\n",
    "    smallest = heapq.nsmallest(2, input_list)\n",
    "    return max(\n",
    "        largest[2] * largest[1] * largest[0], smallest[1] * smallest[0] * largest[0]\n",
    "    )\n",
    "\n",
    "\n",
    "# Generate a large random list of integers\n",
    "random_list = [random.randint(-1000, 1000) for _ in range(1_000_000)]\n",
    "\n",
    "# Benchmarking the sorting method\n",
    "start_time = time.perf_counter()\n",
    "max_product_sort(random_list.copy())\n",
    "sort_time = time.perf_counter() - start_time\n",
    "\n",
    "# Benchmarking the heapq method\n",
    "start_time = time.perf_counter()\n",
    "max_product_heapq(random_list.copy())\n",
    "heapq_time = time.perf_counter() - start_time\n",
    "\n",
    "(sort_time, heapq_time)"
   ]
  },
  {
   "cell_type": "code",
   "execution_count": 56,
   "metadata": {},
   "outputs": [
    {
     "name": "stdout",
     "output_type": "stream",
     "text": [
      "\n",
      "Sort time : 0.1293 \n",
      "Heapq time: 0.0288\n",
      "Multiple: 4.48\n",
      "\n"
     ]
    }
   ],
   "source": [
    "import timeit\n",
    "import heapq\n",
    "import random\n",
    "\n",
    "\n",
    "# First function using sorting\n",
    "def max_product_sort(input_list):\n",
    "    input_list.sort()\n",
    "    return max(\n",
    "        input_list[0] * input_list[1] * input_list[-1],\n",
    "        input_list[-1] * input_list[-2] * input_list[-3],\n",
    "    )\n",
    "\n",
    "\n",
    "# Second function using heapq\n",
    "def max_product_heapq(input_list):\n",
    "    largest = heapq.nlargest(3, input_list)\n",
    "    smallest = heapq.nsmallest(2, input_list)\n",
    "    return max(\n",
    "        largest[2] * largest[1] * largest[0], smallest[1] * smallest[0] * largest[0]\n",
    "    )\n",
    "\n",
    "\n",
    "# Generate a large random list of integers\n",
    "random_list = [random.randint(-1000, 1000) for _ in range(1_000_000)]\n",
    "\n",
    "# Benchmarking the sorting method\n",
    "sort_time = timeit.timeit(lambda: max_product_sort(random_list.copy()), number=100) / 100\n",
    "\n",
    "# Benchmarking the heapq method\n",
    "heapq_time = (\n",
    "    timeit.timeit(lambda: max_product_heapq(random_list.copy()), number=100) / 100\n",
    ")\n",
    "\n",
    "print(\n",
    "    f\"\"\"\n",
    "Sort time : {sort_time:.4f} \n",
    "Heapq time: {heapq_time:.4f}\n",
    "Multiple: {sort_time / heapq_time:.2f}\n",
    "\"\"\"\n",
    ")"
   ]
  },
  {
   "cell_type": "code",
   "execution_count": null,
   "metadata": {},
   "outputs": [],
   "source": []
  }
 ],
 "metadata": {
  "kernelspec": {
   "display_name": ".venv",
   "language": "python",
   "name": "python3"
  },
  "language_info": {
   "codemirror_mode": {
    "name": "ipython",
    "version": 3
   },
   "file_extension": ".py",
   "mimetype": "text/x-python",
   "name": "python",
   "nbconvert_exporter": "python",
   "pygments_lexer": "ipython3",
   "version": "3.12.1"
  }
 },
 "nbformat": 4,
 "nbformat_minor": 2
}
